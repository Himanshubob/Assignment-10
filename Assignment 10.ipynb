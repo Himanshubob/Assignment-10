{
 "cells": [
  {
   "cell_type": "markdown",
   "id": "4b151bc0",
   "metadata": {},
   "source": [
    "# Q1. What is Web Scraping? Why is it Used? Give three areas where Web Scraping is used to get data. "
   ]
  },
  {
   "cell_type": "markdown",
   "id": "bb444a4d",
   "metadata": {},
   "source": [
    "# ans..Web scraping refers to the extraction of data from a website. This information is collected and then exported into a format that is more useful for the user. Be it a spreadsheet or an API.Although web scraping can be done manually, in most cases, automated tools are preferred when scraping web data as they can be less costly and work at a faster rate."
   ]
  },
  {
   "cell_type": "markdown",
   "id": "ca9c09d3",
   "metadata": {},
   "source": [
    "# Q2... What are the different methods used for Web Scraping?"
   ]
  },
  {
   "cell_type": "markdown",
   "id": "eeae606f",
   "metadata": {},
   "source": [
    "# ans..The most common techniques used for Web Scraping are\n",
    "\n",
    "#  Human copy-and-paste.\n",
    " # Text pattern matching.\n",
    "# HTTP programming.\n",
    "# HTML parsing.\n",
    "# DOM parsing.\n",
    "# Vertical aggregation.\n",
    "# Semantic annotation recognizing.\n",
    "# Computer vision web-page analysis"
   ]
  },
  {
   "cell_type": "markdown",
   "id": "2578e9fc",
   "metadata": {},
   "source": [
    "# Q3. What is Beautiful Soup? Why is it used?"
   ]
  },
  {
   "cell_type": "markdown",
   "id": "8cef2122",
   "metadata": {},
   "source": [
    "# ans beautiful soup is the library .used of beautiful soup data correct  form and data reading"
   ]
  },
  {
   "cell_type": "markdown",
   "id": "06748f37",
   "metadata": {},
   "source": [
    "# Q4. Why is flask used in this Web Scraping project?"
   ]
  },
  {
   "cell_type": "markdown",
   "id": "a725ba1a",
   "metadata": {},
   "source": [
    "# ans..flask  used code convert  to web site"
   ]
  },
  {
   "cell_type": "markdown",
   "id": "d3c778ff",
   "metadata": {},
   "source": [
    "# Q5. Write the names of AWS services used in this project. Also, explain the use of each service."
   ]
  },
  {
   "cell_type": "markdown",
   "id": "06b77a23",
   "metadata": {},
   "source": [
    "#  Amazon Ec2\n",
    "# Amazon RDS\n",
    "# AWS beanstalk\n",
    "# AWS lambda\n",
    "# AWS AIM\n"
   ]
  },
  {
   "cell_type": "code",
   "execution_count": null,
   "id": "4cdf3ac2",
   "metadata": {},
   "outputs": [],
   "source": []
  }
 ],
 "metadata": {
  "kernelspec": {
   "display_name": "Python 3 (ipykernel)",
   "language": "python",
   "name": "python3"
  },
  "language_info": {
   "codemirror_mode": {
    "name": "ipython",
    "version": 3
   },
   "file_extension": ".py",
   "mimetype": "text/x-python",
   "name": "python",
   "nbconvert_exporter": "python",
   "pygments_lexer": "ipython3",
   "version": "3.10.9"
  }
 },
 "nbformat": 4,
 "nbformat_minor": 5
}
